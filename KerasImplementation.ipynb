{
 "cells": [
  {
   "cell_type": "code",
   "execution_count": 1,
   "metadata": {
    "collapsed": false
   },
   "outputs": [
    {
     "name": "stderr",
     "output_type": "stream",
     "text": [
      "Using TensorFlow backend.\n"
     ]
    },
    {
     "data": {
      "image/svg+xml": [
       "<svg height=\"268pt\" viewBox=\"0.00 0.00 170.00 268.00\" width=\"170pt\" xmlns=\"http://www.w3.org/2000/svg\" xmlns:xlink=\"http://www.w3.org/1999/xlink\">\n",
       "<g class=\"graph\" id=\"graph0\" transform=\"scale(1 1) rotate(0) translate(4 264)\">\n",
       "<title>G</title>\n",
       "<polygon fill=\"white\" points=\"-4,4 -4,-264 166,-264 166,4 -4,4\" stroke=\"none\"/>\n",
       "<!-- 139757015702416 -->\n",
       "<g class=\"node\" id=\"node1\"><title>139757015702416</title>\n",
       "<polygon fill=\"none\" points=\"-0.5,-223 -0.5,-259 162.5,-259 162.5,-223 -0.5,-223\" stroke=\"black\"/>\n",
       "<text font-family=\"Times,serif\" font-size=\"14.00\" text-anchor=\"middle\" x=\"81\" y=\"-237.3\">dense_input_1: InputLayer</text>\n",
       "</g>\n",
       "<!-- 139757015703184 -->\n",
       "<g class=\"node\" id=\"node2\"><title>139757015703184</title>\n",
       "<polygon fill=\"none\" points=\"30,-149 30,-185 132,-185 132,-149 30,-149\" stroke=\"black\"/>\n",
       "<text font-family=\"Times,serif\" font-size=\"14.00\" text-anchor=\"middle\" x=\"81\" y=\"-163.3\">dense_1: Dense</text>\n",
       "</g>\n",
       "<!-- 139757015702416&#45;&gt;139757015703184 -->\n",
       "<g class=\"edge\" id=\"edge1\"><title>139757015702416-&gt;139757015703184</title>\n",
       "<path d=\"M81,-222.937C81,-214.807 81,-204.876 81,-195.705\" fill=\"none\" stroke=\"black\"/>\n",
       "<polygon fill=\"black\" points=\"84.5001,-195.441 81,-185.441 77.5001,-195.441 84.5001,-195.441\" stroke=\"black\"/>\n",
       "</g>\n",
       "<!-- 139757015702480 -->\n",
       "<g class=\"node\" id=\"node3\"><title>139757015702480</title>\n",
       "<polygon fill=\"none\" points=\"7,-75 7,-111 155,-111 155,-75 7,-75\" stroke=\"black\"/>\n",
       "<text font-family=\"Times,serif\" font-size=\"14.00\" text-anchor=\"middle\" x=\"81\" y=\"-89.3\">activation_1: Activation</text>\n",
       "</g>\n",
       "<!-- 139757015703184&#45;&gt;139757015702480 -->\n",
       "<g class=\"edge\" id=\"edge2\"><title>139757015703184-&gt;139757015702480</title>\n",
       "<path d=\"M81,-148.937C81,-140.807 81,-130.876 81,-121.705\" fill=\"none\" stroke=\"black\"/>\n",
       "<polygon fill=\"black\" points=\"84.5001,-121.441 81,-111.441 77.5001,-121.441 84.5001,-121.441\" stroke=\"black\"/>\n",
       "</g>\n",
       "<!-- 139757015256144 -->\n",
       "<g class=\"node\" id=\"node4\"><title>139757015256144</title>\n",
       "<polygon fill=\"none\" points=\"30,-1 30,-37 132,-37 132,-1 30,-1\" stroke=\"black\"/>\n",
       "<text font-family=\"Times,serif\" font-size=\"14.00\" text-anchor=\"middle\" x=\"81\" y=\"-15.3\">dense_2: Dense</text>\n",
       "</g>\n",
       "<!-- 139757015702480&#45;&gt;139757015256144 -->\n",
       "<g class=\"edge\" id=\"edge3\"><title>139757015702480-&gt;139757015256144</title>\n",
       "<path d=\"M81,-74.937C81,-66.8072 81,-56.8761 81,-47.7047\" fill=\"none\" stroke=\"black\"/>\n",
       "<polygon fill=\"black\" points=\"84.5001,-47.4406 81,-37.4407 77.5001,-47.4407 84.5001,-47.4406\" stroke=\"black\"/>\n",
       "</g>\n",
       "</g>\n",
       "</svg>"
      ],
      "text/plain": [
       "<IPython.core.display.SVG object>"
      ]
     },
     "execution_count": 1,
     "metadata": {},
     "output_type": "execute_result"
    }
   ],
   "source": [
    "from keras.models import Sequential\n",
    "from keras.layers import Dense, Activation\n",
    "from IPython.display import SVG\n",
    "from keras.utils.visualize_util import model_to_dot\n",
    "import matplotlib.pyplot as plt\n",
    "import numpy as np\n",
    "import math\n",
    "    \n",
    "# model setup\n",
    "model = Sequential()\n",
    "model.add(Dense(160, input_dim = 2))\n",
    "model.add(Activation('sigmoid'))\n",
    "model.add(Dense(1))\n",
    "\n",
    "# visualize the network structure\n",
    "SVG(model_to_dot(model).create(prog='dot', format='svg'))"
   ]
  },
  {
   "cell_type": "code",
   "execution_count": 5,
   "metadata": {
    "collapsed": false
   },
   "outputs": [
    {
     "data": {
      "image/png": "[encoded data removed]",
      "text/plain": [
       "<matplotlib.figure.Figure at 0x7f1bb73bbf50>"
      ]
     },
     "metadata": {},
     "output_type": "display_data"
    }
   ],
   "source": [
    "# specify data and train\n",
    "data_size = 100000\n",
    "\n",
    "X = (np.random.ranf((data_size, 2)) * 2 - 1) / math.pi \n",
    "y = np.zeros((data_size, 1))\n",
    "\n",
    "for i in xrange(data_size):\n",
    "    # linear function\n",
    "    #y[i] = 2 * X[i, 0] - 1 * X[i, 1]\n",
    "    # nonlinear function\n",
    "    y[i] = 0.5 * math.pi * (X[i, 0] ** 2) * math.sin(2 * math.pi * X[i, 1])\n",
    "     \n",
    "model.compile(optimizer='sgd', loss='mse')\n",
    "history = model.fit(X, y, batch_size=1000, nb_epoch=100, verbose=0)\n",
    "plt.plot(history.history['loss'])\n",
    "plt.title('model loss')\n",
    "plt.ylabel('loss')\n",
    "plt.xlabel('epoch')\n",
    "plt.legend(['train'], loc='upper left')\n",
    "plt.show()"
   ]
  },
  {
   "cell_type": "code",
   "execution_count": 6,
   "metadata": {
    "collapsed": false
   },
   "outputs": [
    {
     "name": "stdout",
     "output_type": "stream",
     "text": [
      "predicted y:\n",
      "[[-0.01781622]\n",
      " [ 0.01559114]\n",
      " [ 0.04360267]\n",
      " [ 0.06217702]\n",
      " [-0.06567369]\n",
      " [ 0.03871559]\n",
      " [ 0.02135792]\n",
      " [-0.00025166]\n",
      " [ 0.04781332]\n",
      " [-0.04611338]]\n",
      "real y:\n",
      "[[-0.00080268]\n",
      " [ 0.02055447]\n",
      " [ 0.00015829]\n",
      " [ 0.01300549]\n",
      " [-0.13677928]\n",
      " [ 0.06610498]\n",
      " [ 0.06121055]\n",
      " [-0.00356814]\n",
      " [ 0.00684423]\n",
      " [-0.00042952]]\n"
     ]
    }
   ],
   "source": [
    "# test how well the model is doing\n",
    "x_test = X[:10]\n",
    "y_test = y[:10]\n",
    "#x_test = np.ones((1, 2)) * 2\n",
    "#y_test = 2\n",
    "predictions = model.predict(x_test)\n",
    "print 'predicted y:'\n",
    "print predictions\n",
    "print 'real y:'\n",
    "print y_test"
   ]
  },
  {
   "cell_type": "code",
   "execution_count": 7,
   "metadata": {
    "collapsed": false
   },
   "outputs": [
    {
     "name": "stdout",
     "output_type": "stream",
     "text": [
      "____________________________________________________________________________________________________\n",
      "Layer (type)                     Output Shape          Param #     Connected to                     \n",
      "====================================================================================================\n",
      "dense_1 (Dense)                  (None, 160)           480         dense_input_1[0][0]              \n",
      "____________________________________________________________________________________________________\n",
      "activation_1 (Activation)        (None, 160)           0           dense_1[0][0]                    \n",
      "____________________________________________________________________________________________________\n",
      "dense_2 (Dense)                  (None, 1)             161         activation_1[0][0]               \n",
      "====================================================================================================\n",
      "Total params: 641\n",
      "____________________________________________________________________________________________________\n"
     ]
    },
    {
     "data": {
      "text/plain": [
       "[{'class_name': 'Dense',\n",
       "  'config': {'W_constraint': None,\n",
       "   'W_regularizer': None,\n",
       "   'activation': 'linear',\n",
       "   'activity_regularizer': None,\n",
       "   'b_constraint': None,\n",
       "   'b_regularizer': None,\n",
       "   'batch_input_shape': (None, 2),\n",
       "   'bias': True,\n",
       "   'init': 'glorot_uniform',\n",
       "   'input_dim': 2,\n",
       "   'input_dtype': 'float32',\n",
       "   'name': 'dense_1',\n",
       "   'output_dim': 160,\n",
       "   'trainable': True}},\n",
       " {'class_name': 'Activation',\n",
       "  'config': {'activation': 'sigmoid',\n",
       "   'name': 'activation_1',\n",
       "   'trainable': True}},\n",
       " {'class_name': 'Dense',\n",
       "  'config': {'W_constraint': None,\n",
       "   'W_regularizer': None,\n",
       "   'activation': 'linear',\n",
       "   'activity_regularizer': None,\n",
       "   'b_constraint': None,\n",
       "   'b_regularizer': None,\n",
       "   'bias': True,\n",
       "   'init': 'glorot_uniform',\n",
       "   'input_dim': None,\n",
       "   'name': 'dense_2',\n",
       "   'output_dim': 1,\n",
       "   'trainable': True}}]"
      ]
     },
     "execution_count": 7,
     "metadata": {},
     "output_type": "execute_result"
    }
   ],
   "source": [
    "# you can see some summaries of the model if you like\n",
    "model.summary()\n",
    "\n",
    "model.get_config()\n",
    "\n",
    "#model.get_weights()"
   ]
  }
 ],
 "metadata": {
  "kernelspec": {
   "display_name": "Python 2",
   "language": "python",
   "name": "python2"
  },
  "language_info": {
   "codemirror_mode": {
    "name": "ipython",
    "version": 2
   },
   "file_extension": ".py",
   "mimetype": "text/x-python",
   "name": "python",
   "nbconvert_exporter": "python",
   "pygments_lexer": "ipython2",
   "version": "2.7.6"
  }
 },
 "nbformat": 4,
 "nbformat_minor": 1
}
